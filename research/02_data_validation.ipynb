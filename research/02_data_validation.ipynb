{
 "cells": [
  {
   "cell_type": "code",
   "execution_count": 1,
   "metadata": {},
   "outputs": [],
   "source": [
    "import os"
   ]
  },
  {
   "cell_type": "code",
   "execution_count": 2,
   "metadata": {},
   "outputs": [
    {
     "data": {
      "text/plain": [
       "'d:\\\\ML_Projects\\\\Text_Summrizer\\\\Text_Summarizer\\\\research'"
      ]
     },
     "execution_count": 2,
     "metadata": {},
     "output_type": "execute_result"
    }
   ],
   "source": [
    "%pwd"
   ]
  },
  {
   "cell_type": "code",
   "execution_count": 3,
   "metadata": {},
   "outputs": [],
   "source": [
    "os.chdir(\"../\")"
   ]
  },
  {
   "cell_type": "code",
   "execution_count": 4,
   "metadata": {},
   "outputs": [
    {
     "data": {
      "text/plain": [
       "'d:\\\\ML_Projects\\\\Text_Summrizer\\\\Text_Summarizer'"
      ]
     },
     "execution_count": 4,
     "metadata": {},
     "output_type": "execute_result"
    }
   ],
   "source": [
    "%pwd"
   ]
  },
  {
   "cell_type": "code",
   "execution_count": 5,
   "metadata": {},
   "outputs": [],
   "source": [
    "from dataclasses import dataclass\n",
    "from pathlib import Path\n",
    "\n",
    "@dataclass(frozen=True)\n",
    "class DataValidationConfig:\n",
    "    root_dir: Path\n",
    "    STATUS_FILE: str\n",
    "    ALL_REQUIRED_FILES: list"
   ]
  },
  {
   "cell_type": "code",
   "execution_count": 7,
   "metadata": {},
   "outputs": [],
   "source": [
    "from textSummarizer.constants import *\n",
    "from textSummarizer.utils.common import read_yaml, create_directories\n",
    "\n",
    "\n",
    "\n",
    "class ConfigurationManager:\n",
    "    def __init__(\n",
    "            self,\n",
    "            config_filepath = CONFIG_FILE_PATH,\n",
    "            params_filepath = PARAMS_FILE_PATH):\n",
    "        \n",
    "        self.config = read_yaml(config_filepath)\n",
    "        self.params = read_yaml(params_filepath)\n",
    "\n",
    "        create_directories([self.config.artifacts_root])\n",
    "\n",
    "\n",
    "\n",
    "    def get_data_validation_config(self) -> DataValidationConfig:\n",
    "        config = self.config.data_validation\n",
    "\n",
    "        create_directories([config.root_dir])\n",
    "\n",
    "        data_validation_config = DataValidationConfig(\n",
    "            root_dir=config.root_dir,\n",
    "            STATUS_FILE=config.STATUS_FILE,\n",
    "            ALL_REQUIRED_FILES=config.ALL_REQUIRED_FILES,\n",
    "        )\n",
    "\n",
    "        return data_validation_config"
   ]
  },
  {
   "cell_type": "code",
   "execution_count": 9,
   "metadata": {},
   "outputs": [],
   "source": [
    "import os\n",
    "from textSummarizer.logging import logger\n",
    "\n",
    "\n",
    "class DataValidation:\n",
    "    def __init__(self, config: DataValidationConfig):\n",
    "        self.config = config\n",
    "\n",
    "\n",
    "\n",
    "    def validate_all_files_exist(self) -> bool:\n",
    "        try:\n",
    "            validation_status = None\n",
    "            \n",
    "            all_files = os.listdir(os.path.join('artifacts', 'data_ingestion', 'samsum_dataset'))\n",
    "\n",
    "            for file in all_files:\n",
    "                if file not in self.config.ALL_REQUIRED_FILES:\n",
    "                    validation_status = False\n",
    "                    with open(self.config.STATUS_FILE, 'w') as f:\n",
    "                        f.write(f\"Validation status: {validation_status}\")\n",
    "                else:\n",
    "                    validation_status = True\n",
    "                    with open(self.config.STATUS_FILE, 'w') as f:\n",
    "                        f.write(f\"Validation status: {validation_status}\")\n",
    "\n",
    "            return validation_status\n",
    "        except Exception as e:\n",
    "            raise e"
   ]
  },
  {
   "cell_type": "code",
   "execution_count": 10,
   "metadata": {},
   "outputs": [
    {
     "name": "stdout",
     "output_type": "stream",
     "text": [
      "[2024-08-17 19:38:20,142: INFO: common: yaml file: config\\config.yaml loaded successfully]\n",
      "[2024-08-17 19:38:20,149: INFO: common: yaml file: params.yaml loaded successfully]\n",
      "[2024-08-17 19:38:20,151: INFO: common: created directory at: artifacts]\n"
     ]
    },
    {
     "ename": "AttributeError",
     "evalue": "'NoneType' object has no attribute 'root_dir'",
     "output_type": "error",
     "traceback": [
      "\u001b[1;31m---------------------------------------------------------------------------\u001b[0m",
      "\u001b[1;31mAttributeError\u001b[0m                            Traceback (most recent call last)",
      "\u001b[1;32md:\\ML_Projects\\Text_Summrizer\\Text_Summarizer\\research\\02_data_validation.ipynb Cell 8\u001b[0m line \u001b[0;36m8\n\u001b[0;32m      <a href='vscode-notebook-cell:/d%3A/ML_Projects/Text_Summrizer/Text_Summarizer/research/02_data_validation.ipynb#X10sZmlsZQ%3D%3D?line=4'>5</a>\u001b[0m     data_validation\u001b[39m.\u001b[39mvalidate_all_files_exist()\n\u001b[0;32m      <a href='vscode-notebook-cell:/d%3A/ML_Projects/Text_Summrizer/Text_Summarizer/research/02_data_validation.ipynb#X10sZmlsZQ%3D%3D?line=6'>7</a>\u001b[0m \u001b[39mexcept\u001b[39;00m \u001b[39mException\u001b[39;00m \u001b[39mas\u001b[39;00m e:\n\u001b[1;32m----> <a href='vscode-notebook-cell:/d%3A/ML_Projects/Text_Summrizer/Text_Summarizer/research/02_data_validation.ipynb#X10sZmlsZQ%3D%3D?line=7'>8</a>\u001b[0m     \u001b[39mraise\u001b[39;00m e\n",
      "\u001b[1;32md:\\ML_Projects\\Text_Summrizer\\Text_Summarizer\\research\\02_data_validation.ipynb Cell 8\u001b[0m line \u001b[0;36m3\n\u001b[0;32m      <a href='vscode-notebook-cell:/d%3A/ML_Projects/Text_Summrizer/Text_Summarizer/research/02_data_validation.ipynb#X10sZmlsZQ%3D%3D?line=0'>1</a>\u001b[0m \u001b[39mtry\u001b[39;00m:\n\u001b[0;32m      <a href='vscode-notebook-cell:/d%3A/ML_Projects/Text_Summrizer/Text_Summarizer/research/02_data_validation.ipynb#X10sZmlsZQ%3D%3D?line=1'>2</a>\u001b[0m     config \u001b[39m=\u001b[39m ConfigurationManager()\n\u001b[1;32m----> <a href='vscode-notebook-cell:/d%3A/ML_Projects/Text_Summrizer/Text_Summarizer/research/02_data_validation.ipynb#X10sZmlsZQ%3D%3D?line=2'>3</a>\u001b[0m     data_validation_config \u001b[39m=\u001b[39m config\u001b[39m.\u001b[39;49mget_data_validation_config()\n\u001b[0;32m      <a href='vscode-notebook-cell:/d%3A/ML_Projects/Text_Summrizer/Text_Summarizer/research/02_data_validation.ipynb#X10sZmlsZQ%3D%3D?line=3'>4</a>\u001b[0m     data_validation \u001b[39m=\u001b[39m DataValidation(config\u001b[39m=\u001b[39mdata_validation_config)\n\u001b[0;32m      <a href='vscode-notebook-cell:/d%3A/ML_Projects/Text_Summrizer/Text_Summarizer/research/02_data_validation.ipynb#X10sZmlsZQ%3D%3D?line=4'>5</a>\u001b[0m     data_validation\u001b[39m.\u001b[39mvalidate_all_files_exist()\n",
      "\u001b[1;32md:\\ML_Projects\\Text_Summrizer\\Text_Summarizer\\research\\02_data_validation.ipynb Cell 8\u001b[0m line \u001b[0;36m2\n\u001b[0;32m     <a href='vscode-notebook-cell:/d%3A/ML_Projects/Text_Summrizer/Text_Summarizer/research/02_data_validation.ipynb#X10sZmlsZQ%3D%3D?line=18'>19</a>\u001b[0m \u001b[39mdef\u001b[39;00m \u001b[39mget_data_validation_config\u001b[39m(\u001b[39mself\u001b[39m) \u001b[39m-\u001b[39m\u001b[39m>\u001b[39m DataValidationConfig:\n\u001b[0;32m     <a href='vscode-notebook-cell:/d%3A/ML_Projects/Text_Summrizer/Text_Summarizer/research/02_data_validation.ipynb#X10sZmlsZQ%3D%3D?line=19'>20</a>\u001b[0m     config \u001b[39m=\u001b[39m \u001b[39mself\u001b[39m\u001b[39m.\u001b[39mconfig\u001b[39m.\u001b[39mdata_validation\n\u001b[1;32m---> <a href='vscode-notebook-cell:/d%3A/ML_Projects/Text_Summrizer/Text_Summarizer/research/02_data_validation.ipynb#X10sZmlsZQ%3D%3D?line=21'>22</a>\u001b[0m     create_directories([config\u001b[39m.\u001b[39;49mroot_dir])\n\u001b[0;32m     <a href='vscode-notebook-cell:/d%3A/ML_Projects/Text_Summrizer/Text_Summarizer/research/02_data_validation.ipynb#X10sZmlsZQ%3D%3D?line=23'>24</a>\u001b[0m     data_validation_config \u001b[39m=\u001b[39m DataValidationConfig(\n\u001b[0;32m     <a href='vscode-notebook-cell:/d%3A/ML_Projects/Text_Summrizer/Text_Summarizer/research/02_data_validation.ipynb#X10sZmlsZQ%3D%3D?line=24'>25</a>\u001b[0m         root_dir\u001b[39m=\u001b[39mconfig\u001b[39m.\u001b[39mroot_dir,\n\u001b[0;32m     <a href='vscode-notebook-cell:/d%3A/ML_Projects/Text_Summrizer/Text_Summarizer/research/02_data_validation.ipynb#X10sZmlsZQ%3D%3D?line=25'>26</a>\u001b[0m         STATUS_FILE\u001b[39m=\u001b[39mconfig\u001b[39m.\u001b[39mSTATUS_FILE,\n\u001b[0;32m     <a href='vscode-notebook-cell:/d%3A/ML_Projects/Text_Summrizer/Text_Summarizer/research/02_data_validation.ipynb#X10sZmlsZQ%3D%3D?line=26'>27</a>\u001b[0m         ALL_REQUIRED_FILES\u001b[39m=\u001b[39mconfig\u001b[39m.\u001b[39mALL_REQUIRED_FILES,\n\u001b[0;32m     <a href='vscode-notebook-cell:/d%3A/ML_Projects/Text_Summrizer/Text_Summarizer/research/02_data_validation.ipynb#X10sZmlsZQ%3D%3D?line=27'>28</a>\u001b[0m     )\n\u001b[0;32m     <a href='vscode-notebook-cell:/d%3A/ML_Projects/Text_Summrizer/Text_Summarizer/research/02_data_validation.ipynb#X10sZmlsZQ%3D%3D?line=29'>30</a>\u001b[0m     \u001b[39mreturn\u001b[39;00m data_validation_config\n",
      "\u001b[1;31mAttributeError\u001b[0m: 'NoneType' object has no attribute 'root_dir'"
     ]
    }
   ],
   "source": [
    "try:\n",
    "    config = ConfigurationManager()\n",
    "    data_validation_config = config.get_data_validation_config()\n",
    "    data_validation = DataValidation(config=data_validation_config)\n",
    "    data_validation.validate_all_files_exist()\n",
    "    \n",
    "except Exception as e:\n",
    "    raise e"
   ]
  },
  {
   "cell_type": "code",
   "execution_count": null,
   "metadata": {},
   "outputs": [],
   "source": []
  }
 ],
 "metadata": {
  "kernelspec": {
   "display_name": "textS",
   "language": "python",
   "name": "python3"
  },
  "language_info": {
   "codemirror_mode": {
    "name": "ipython",
    "version": 3
   },
   "file_extension": ".py",
   "mimetype": "text/x-python",
   "name": "python",
   "nbconvert_exporter": "python",
   "pygments_lexer": "ipython3",
   "version": "3.9.19"
  }
 },
 "nbformat": 4,
 "nbformat_minor": 2
}
